{
 "cells": [
  {
   "cell_type": "code",
   "execution_count": 1,
   "metadata": {},
   "outputs": [],
   "source": [
    "import numpy as np"
   ]
  },
  {
   "cell_type": "code",
   "execution_count": null,
   "metadata": {},
   "outputs": [],
   "source": [
    "\"\"\" \n",
    "1d Ising using heat bath (non-vectorized).\n",
    "\n",
    "lattice = np.random.randint(2, size=n) \n",
    "\n",
    "# Energy of spin at position i.\n",
    "def energy(self, i):\n",
    "    current = self.lattice[i]\n",
    "    neighbor1, neighbor2 = self.lattice[i-1], self.lattice[i+1]\n",
    "    for n in [neighbor1, neighbor2]:\n",
    "        if n == up:\n",
    "            m += 1\n",
    "        else:\n",
    "            m -= 1\n",
    "\n",
    "    E_up = -J * m - E_B\n",
    "    E_down = J * m + E_B\n",
    "    return (E_up, E_down)\n",
    "\n",
    "\n",
    "def update(self):\n",
    "    i = np.random.randint(len(self.lattice))\n",
    "    E_up, E_down = self.energy(i)\n",
    "    prob_up = exp(-self.beta * E_up) / (exp(-self.beta * E_up) + exp(-self.beta * E_down))\n",
    "    p = np.random.rand()\n",
    "\n",
    "    if p < prob_up:\n",
    "        self.lattice[i] = up\n",
    "    else:\n",
    "        self.lattice[i] = down\n",
    "\n",
    "\"\"\""
   ]
  },
  {
   "cell_type": "code",
   "execution_count": null,
   "metadata": {},
   "outputs": [],
   "source": [
    "\"\"\" \n",
    "1d Ising using Metropolis (non-vectorized).\n",
    "\n",
    "def energy(self, i):\n",
    "    current = lattice[i]\n",
    "    neighbor1, neighbor2 = lattice[i-1], lattice[i+1]\n",
    "    for n in [neighbor1, neighbor2]:\n",
    "        if n == up:\n",
    "            m += 1\n",
    "        else:\n",
    "            m -= 1\n",
    "    \n",
    "    E_up = -J * m - E_B\n",
    "    E_down = J * m + E_B\n",
    "    delta_E = E_down - E_up     # > 0\n",
    "\n",
    "    if current == up:\n",
    "        return delta_E\n",
    "    else:\n",
    "        return -delta_E\n",
    "    \n",
    "\n",
    "def update(self):\n",
    "    i = np.random.randint(len(self.lattice))\n",
    "    delta_E = self.energy(i)\n",
    "\n",
    "    if delta_E < 0:     # current is down, so flip it up.\n",
    "        self.lattice[i] = down\n",
    "        return\n",
    "\n",
    "    # current is down, so flip it down with some probability.\n",
    "    prob_down = exp(-self.beta * delta_E)\n",
    "    p = np.random.rand()\n",
    "    if p < prob_down:\n",
    "        self.lattice[i] = down\n",
    "    \n",
    "\"\"\""
   ]
  }
 ],
 "metadata": {
  "kernelspec": {
   "display_name": "phy329_assignments",
   "language": "python",
   "name": "python3"
  },
  "language_info": {
   "codemirror_mode": {
    "name": "ipython",
    "version": 3
   },
   "file_extension": ".py",
   "mimetype": "text/x-python",
   "name": "python",
   "nbconvert_exporter": "python",
   "pygments_lexer": "ipython3",
   "version": "3.12.4"
  }
 },
 "nbformat": 4,
 "nbformat_minor": 2
}
