{
 "cells": [
  {
   "cell_type": "code",
   "execution_count": 1,
   "metadata": {},
   "outputs": [],
   "source": [
    "import numpy as np"
   ]
  },
  {
   "cell_type": "code",
   "execution_count": 46,
   "metadata": {},
   "outputs": [],
   "source": [
    "\n",
    "class VectorizedMetropolis1D:\n",
    "    def __init__(self, beta, J, H):\n",
    "        \"\"\"\n",
    "        Args:\n",
    "            beta: 1/(k_B * T)\n",
    "            J: strength of nearest neighbor interactions\n",
    "            H: strength of external magnetic field\n",
    "        \"\"\"\n",
    "        self.beta = beta\n",
    "        self.J = J\n",
    "        self.H = H\n",
    "    \n",
    "    def neighbor_coupling(self, X_lattice):\n",
    "        \"\"\" \n",
    "        Args:\n",
    "            X_lattice (ndarray): current state of system\n",
    "\n",
    "        Returns:\n",
    "            X_neighbors (ndarray): nearest neighbor contributions to the\n",
    "            interaction energy\n",
    "        \"\"\"\n",
    "        # Sum nearest neighbor contributions to energy by shifting X_lattice.\n",
    "        # Open boundary conditions (ends of lattice do not interact with each other).\n",
    "        X_neighbors = np.zeros_like(X_lattice)      # Initiate array with all 0's.\n",
    "        X_neighbors[:-1] += X_lattice[1:]           # Left neighbor contribution\n",
    "        X_neighbors[1:]  += X_lattice[:-1]          # Right neighbor contribution\n",
    "\n",
    "        return X_neighbors\n",
    "\n",
    "    \n",
    "    def update_spins(self, X_lattice):\n",
    "        \"\"\" \n",
    "        Args:\n",
    "            X_lattice (ndarray): current state of system\n",
    "        \n",
    "        Returns:\n",
    "            X_result (ndarray): updated state of system\n",
    "        \"\"\"\n",
    "        # Calculate change in energy required to flip each spin.\n",
    "        X_neighbors = self.neighbor_coupling(X_lattice)\n",
    "        X_Ei = - self.J * X_lattice * X_neighbors - self.H * X_lattice\n",
    "        X_Ef = - X_Ei\n",
    "        X_deltaE = X_Ef - X_Ei\n",
    "\n",
    "        X_result = np.zeros_like(X_lattice)         # Updated matrix\n",
    "        # If energy < 0 (spin is currently down), flip up.\n",
    "        X_result[X_deltaE < 0] = 1\n",
    "\n",
    "        # If energy > 0 (spin is currently up), flip down with probability\n",
    "        # given by Boltzmann factor.\n",
    "        X_result[(X_deltaE > 0) & X_deltaE < (np.exp(- self.beta * X_deltaE))] = -1\n",
    "\n",
    "        return X_result\n"
   ]
  },
  {
   "cell_type": "code",
   "execution_count": 47,
   "metadata": {},
   "outputs": [
    {
     "name": "stdout",
     "output_type": "stream",
     "text": [
      "Initial lattice and neighbors\n",
      "[ 1  1 -1 -1 -1 -1 -1 -1  1  1]\n",
      "[ 1  0  0 -2 -2 -2 -2  0  0  1]\n",
      "\n"
     ]
    },
    {
     "ename": "TypeError",
     "evalue": "ufunc 'bitwise_and' not supported for the input types, and the inputs could not be safely coerced to any supported types according to the casting rule ''safe''",
     "output_type": "error",
     "traceback": [
      "\u001b[1;31m---------------------------------------------------------------------------\u001b[0m",
      "\u001b[1;31mTypeError\u001b[0m                                 Traceback (most recent call last)",
      "Cell \u001b[1;32mIn[47], line 11\u001b[0m\n\u001b[0;32m      8\u001b[0m \u001b[38;5;28mprint\u001b[39m()\n\u001b[0;32m     10\u001b[0m \u001b[38;5;28;01mfor\u001b[39;00m i \u001b[38;5;129;01min\u001b[39;00m \u001b[38;5;28mrange\u001b[39m(\u001b[38;5;241m10\u001b[39m):\n\u001b[1;32m---> 11\u001b[0m     lattice \u001b[38;5;241m=\u001b[39m \u001b[43mIsing\u001b[49m\u001b[38;5;241;43m.\u001b[39;49m\u001b[43mupdate_spins\u001b[49m\u001b[43m(\u001b[49m\u001b[43mlattice\u001b[49m\u001b[43m)\u001b[49m\n\u001b[0;32m     12\u001b[0m     \u001b[38;5;28mprint\u001b[39m(\u001b[38;5;124mf\u001b[39m\u001b[38;5;124m\"\u001b[39m\u001b[38;5;124mUpdate \u001b[39m\u001b[38;5;132;01m{\u001b[39;00mi\u001b[38;5;132;01m}\u001b[39;00m\u001b[38;5;124m\"\u001b[39m)\n\u001b[0;32m     13\u001b[0m     \u001b[38;5;28mprint\u001b[39m(lattice)\n",
      "Cell \u001b[1;32mIn[46], line 51\u001b[0m, in \u001b[0;36mVectorizedMetropolis1D.update_spins\u001b[1;34m(self, X_lattice)\u001b[0m\n\u001b[0;32m     47\u001b[0m X_result[X_deltaE \u001b[38;5;241m<\u001b[39m \u001b[38;5;241m0\u001b[39m] \u001b[38;5;241m=\u001b[39m \u001b[38;5;241m1\u001b[39m\n\u001b[0;32m     49\u001b[0m \u001b[38;5;66;03m# If energy > 0 (spin is currently up), flip down with probability\u001b[39;00m\n\u001b[0;32m     50\u001b[0m \u001b[38;5;66;03m# given by Boltzmann factor.\u001b[39;00m\n\u001b[1;32m---> 51\u001b[0m X_result[\u001b[43m(\u001b[49m\u001b[43mX_deltaE\u001b[49m\u001b[43m \u001b[49m\u001b[38;5;241;43m>\u001b[39;49m\u001b[43m \u001b[49m\u001b[38;5;241;43m0\u001b[39;49m\u001b[43m)\u001b[49m\u001b[43m \u001b[49m\u001b[38;5;241;43m&\u001b[39;49m\u001b[43m \u001b[49m\u001b[43mX_deltaE\u001b[49m \u001b[38;5;241m<\u001b[39m (np\u001b[38;5;241m.\u001b[39mexp(\u001b[38;5;241m-\u001b[39m \u001b[38;5;28mself\u001b[39m\u001b[38;5;241m.\u001b[39mbeta \u001b[38;5;241m*\u001b[39m X_deltaE))] \u001b[38;5;241m=\u001b[39m \u001b[38;5;241m-\u001b[39m\u001b[38;5;241m1\u001b[39m\n\u001b[0;32m     53\u001b[0m \u001b[38;5;28;01mreturn\u001b[39;00m X_result\n",
      "\u001b[1;31mTypeError\u001b[0m: ufunc 'bitwise_and' not supported for the input types, and the inputs could not be safely coerced to any supported types according to the casting rule ''safe''"
     ]
    }
   ],
   "source": [
    "np.random.seed()\n",
    "lattice = np.random.choice([-1, 1], size=10)\n",
    "\n",
    "Ising = VectorizedMetropolis1D(beta=10, J=0.1, H=0.1)\n",
    "print(\"Initial lattice and neighbors\")\n",
    "print(lattice)\n",
    "print(Ising.neighbor_coupling(lattice))\n",
    "print()\n",
    "\n",
    "for i in range(10):\n",
    "    lattice = Ising.update_spins(lattice)\n",
    "    print(f\"Update {i}\")\n",
    "    print(lattice)\n",
    "    print(Ising.neighbor_coupling(lattice))\n",
    "    print()"
   ]
  },
  {
   "cell_type": "code",
   "execution_count": null,
   "metadata": {},
   "outputs": [],
   "source": [
    "\"\"\" \n",
    "1d Ising using heat bath (non-vectorized).\n",
    "\n",
    "lattice = np.random.randint(2, size=n) \n",
    "\n",
    "# Energy of spin at position i.\n",
    "def energy(self, i):\n",
    "    current = self.lattice[i]\n",
    "    neighbor1, neighbor2 = self.lattice[i-1], self.lattice[i+1]\n",
    "    for n in [neighbor1, neighbor2]:\n",
    "        if n == up:\n",
    "            m += 1\n",
    "        else:\n",
    "            m -= 1\n",
    "\n",
    "    E_up = -J * m - E_B\n",
    "    E_down = J * m + E_B\n",
    "    return (E_up, E_down)\n",
    "\n",
    "\n",
    "def update(self):\n",
    "    i = np.random.randint(len(self.lattice))\n",
    "    E_up, E_down = self.energy(i)\n",
    "    prob_up = exp(-self.beta * E_up) / (exp(-self.beta * E_up) + exp(-self.beta * E_down))\n",
    "    p = np.random.rand()\n",
    "\n",
    "    if p < prob_up:\n",
    "        self.lattice[i] = up\n",
    "    else:\n",
    "        self.lattice[i] = down\n",
    "\n",
    "\"\"\""
   ]
  },
  {
   "cell_type": "code",
   "execution_count": 15,
   "metadata": {},
   "outputs": [],
   "source": [
    "\n",
    "# 1d Ising using Metropolis (non-vectorized).\n",
    "\n",
    "class SimpleMetropolis1D():\n",
    "\n",
    "    def __init__(self, beta, J, E_B, lattice):\n",
    "        self.beta = beta\n",
    "        self.J = J\n",
    "        self.E_B = E_B\n",
    "        self.lattice = lattice\n",
    "\n",
    "    def energy(self, i):\n",
    "        current = self.lattice[i]\n",
    "\n",
    "        # Periodic/circular boundary conditions.\n",
    "        if i == len(self.lattice) - 1:\n",
    "            j1 = i - 1\n",
    "            j2 = 0\n",
    "        elif i == 0:\n",
    "            j1 = len(self.lattice) - 1\n",
    "            j2 = i + 1\n",
    "        else:\n",
    "            j1, j2 = i - 1, i + 1\n",
    "        \n",
    "        neighbor1, neighbor2 = self.lattice[j1], self.lattice[j2]\n",
    "        m = 0\n",
    "        for n in [neighbor1, neighbor2]:\n",
    "            if n == 0:      # spin up\n",
    "                m += 1\n",
    "            else:           # spin down (n == 1)\n",
    "                m -= 1\n",
    "        \n",
    "        E_up = -self.J * m - self.E_B\n",
    "        E_down = self.J * m + self.E_B\n",
    "        delta_E = E_down - E_up     # > 0\n",
    "\n",
    "        if current == 0:\n",
    "            return delta_E\n",
    "        else:\n",
    "            return -delta_E\n",
    "        \n",
    "\n",
    "    def update(self):\n",
    "        i = np.random.randint(len(self.lattice))\n",
    "        delta_E = self.energy(i)\n",
    "        # print(i)\n",
    "\n",
    "        if delta_E < 0:     # current is down, so flip it up.\n",
    "            self.lattice[i] = 1\n",
    "            return self.lattice\n",
    "\n",
    "        # current is up, so flip it down with some probability.\n",
    "        prob_down = np.exp(-self.beta * delta_E)\n",
    "        p = np.random.rand()\n",
    "        if p < prob_down:\n",
    "            self.lattice[i] = 1\n",
    "        \n",
    "        return self.lattice\n",
    "        "
   ]
  },
  {
   "cell_type": "code",
   "execution_count": 35,
   "metadata": {},
   "outputs": [
    {
     "name": "stdout",
     "output_type": "stream",
     "text": [
      "[0 1 1 1 1 1 0 0 0 1]\n",
      "[0 1 1 1 1 1 0 0 0 1]\n",
      "[1 1 1 1 1 1 0 0 0 1]\n",
      "[1 1 1 1 1 1 0 0 0 1]\n",
      "[1 1 1 1 1 1 0 0 0 1]\n",
      "[1 1 1 1 1 1 0 0 0 1]\n",
      "[1 1 1 1 1 1 0 0 0 1]\n",
      "[1 1 1 1 1 1 0 0 0 1]\n",
      "[1 1 1 1 1 1 0 0 0 1]\n",
      "[1 1 1 1 1 1 0 0 0 1]\n"
     ]
    }
   ],
   "source": [
    "np.random.seed()\n",
    "lattice = np.random.randint(0, 2, size=10)\n",
    "\n",
    "Ising = SimpleMetropolis1D(beta=10, J=0.1, E_B=0.1, lattice=lattice)\n",
    "\n",
    "for i in range(10):\n",
    "    print(Ising.update())"
   ]
  },
  {
   "cell_type": "markdown",
   "metadata": {},
   "source": [
    "Instead of 0 for up, use -1 for up, +1 for down."
   ]
  }
 ],
 "metadata": {
  "kernelspec": {
   "display_name": "phy329_assignments",
   "language": "python",
   "name": "python3"
  },
  "language_info": {
   "codemirror_mode": {
    "name": "ipython",
    "version": 3
   },
   "file_extension": ".py",
   "mimetype": "text/x-python",
   "name": "python",
   "nbconvert_exporter": "python",
   "pygments_lexer": "ipython3",
   "version": "3.12.4"
  }
 },
 "nbformat": 4,
 "nbformat_minor": 2
}
